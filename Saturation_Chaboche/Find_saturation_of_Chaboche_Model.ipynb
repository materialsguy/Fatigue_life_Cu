{
 "cells": [
  {
   "cell_type": "markdown",
   "id": "3e1888e0",
   "metadata": {},
   "source": [
    "# Code to calulate saturation of a Strain Controlled Chaboche Model"
   ]
  },
  {
   "cell_type": "code",
   "execution_count": 1,
   "id": "c8d1342a",
   "metadata": {},
   "outputs": [],
   "source": [
    "import pandas as pd\n",
    "import numpy as np\n",
    "import glob\n",
    "import os\n",
    "import matplotlib.pyplot as plt\n",
    "import math"
   ]
  },
  {
   "cell_type": "code",
   "execution_count": 2,
   "id": "6a7456a3",
   "metadata": {},
   "outputs": [],
   "source": [
    "def extract_min_max(data, cycle_number, start_max = True ):\n",
    "    '''\n",
    "    Extracts minimum or maximum from given file depending on the cycle and if first half-cycle is compressive or tensile.\n",
    "    \n",
    "    Inputs\n",
    "    --------\n",
    "    data: np.array\n",
    "    cycle_number: integer\n",
    "    start_max: Boolean\n",
    "        True if the simulation starts with straining, False if it starts with compression\n",
    "   \n",
    "        \n",
    "    Outputs\n",
    "    --------\n",
    "    _: float\n",
    "    minimum or maximum value of the given data    \n",
    "    '''\n",
    "    if start_max:\n",
    "        if cycle_number%2 == 0:\n",
    "            return np.max(data)\n",
    "        else: \n",
    "            return np.min(data)\n",
    "    else:\n",
    "        if cycle_number%2 == 0:\n",
    "            return np.min(data)\n",
    "        else: \n",
    "            return np.max(data)"
   ]
  },
  {
   "cell_type": "code",
   "execution_count": 3,
   "id": "03a59655",
   "metadata": {},
   "outputs": [],
   "source": [
    "def estimate_saturation(plastic_strain_5th_cycle, b_value):\n",
    "    '''\n",
    "    Estimates the saturation using the 5th cycle of the simulation.\n",
    "    \n",
    "    Inputs\n",
    "    --------\n",
    "    plastic_strain_5th_cycle: list\n",
    "        list of the maximal and minimal value of the plastic strain in the 5th cycle \n",
    "    b_value: float\n",
    "        isotropic hardening exponent\n",
    "          \n",
    "    Outputsa\n",
    "    --------\n",
    "    _: int\n",
    "    estimated cycle until saturation\n",
    "    '''\n",
    "    return int(5/((-plastic_strain_5th_cycle[0]+plastic_strain_5th_cycle[1])*2*b_value))"
   ]
  },
  {
   "cell_type": "code",
   "execution_count": 4,
   "id": "54c0cf68",
   "metadata": {},
   "outputs": [],
   "source": [
    "def plot_stress(name, data):\n",
    "    '''\n",
    "    Plots stress by extracting maximum and minimim from provided data\n",
    "    \n",
    "    Inputs\n",
    "    --------\n",
    "    name: string\n",
    "        Name of the sample\n",
    "    data: list, np.array, pd.DataFrame\n",
    "        stress_values\n",
    "          \n",
    "    Outputs\n",
    "    --------\n",
    "    Plot of minimum and maximum value\n",
    "    '''\n",
    "    plt.title(name)\n",
    "    plt.plot(np.array(data[::2]))\n",
    "    plt.plot(np.array(data[1::2]))\n",
    "    plt.show()"
   ]
  },
  {
   "cell_type": "code",
   "execution_count": 5,
   "id": "09ab647d",
   "metadata": {},
   "outputs": [],
   "source": [
    "def calculate_saturation_curve(data, threshold = False, stress_range = True):\n",
    "    '''\n",
    "    Calculates the saturation curve\n",
    "    \n",
    "    Inputs\n",
    "    --------\n",
    "    data: list, np.array, pd.DataFrame\n",
    "        stress data\n",
    "    threshold: integer\n",
    "        threshold until which the data will be evaluated        \n",
    "    stress_range: Boolean\n",
    "        True if minimum and maximum amplitude in data, False if only one part of the Amplitudes (min or max)\n",
    "          \n",
    "    Outputs\n",
    "    --------\n",
    "    _: np.array\n",
    "        saturation curve, assuming the last given value is a saturated value                \n",
    "    '''\n",
    "    if threshold:\n",
    "        data = data[: threshold]\n",
    "\n",
    "    if stress_range:\n",
    "        odd_values = data[::2]\n",
    "        even_values = data[1::2]\n",
    "        \n",
    "        if len(odd_values) == len(even_values):\n",
    "            c = np.abs(odd_values) + np.abs(even_values)\n",
    "            \n",
    "        else:\n",
    "            c = np.abs(odd_values[:-1]) + np.abs(even_values)\n",
    "    else:\n",
    "        c = data\n",
    "        \n",
    "    return (c-c[0])/(c[-1]-c[0])"
   ]
  },
  {
   "cell_type": "code",
   "execution_count": 6,
   "id": "ec5f35b3",
   "metadata": {},
   "outputs": [],
   "source": [
    "def find_saturation(data, cut=0.95, stress_range = True):\n",
    "    '''\n",
    "    Finds the stress saturation\n",
    "    \n",
    "    Inputs\n",
    "    --------\n",
    "    data: array\n",
    "        stress data\n",
    "    cut: float \n",
    "        value between 0 and 1 that defines the % of change that is still allowed at the onset of saturation\n",
    "        Standard 0.95 defined for two standard deviations.\n",
    "    stress_range: Boolean\n",
    "        True if minimum and maximum amplitude in data, False if only one part of the Amplitudes (min or max)\n",
    "    \n",
    "    Outputs\n",
    "    --------\n",
    "    saturation_values: np.array\n",
    "        returns the saturation cycle by calculating it for every possible saturation point.\n",
    "    '''\n",
    "    saturation_values = []\n",
    "    i = 5\n",
    "    \n",
    "    if stress_range:\n",
    "        limit =  int(len(data)/2-2)\n",
    "    else:\n",
    "        limit = len(data)-2\n",
    "        \n",
    "    while i < limit:\n",
    "        saturation_curve = calculate_saturation_curve(data, threshold = i, stress_range = stress_range)\n",
    "        saturation_values.append(calculate_saturation_value(saturation_curve, cut = cut))\n",
    "        i += 1\n",
    "    return np.array(saturation_values)"
   ]
  },
  {
   "cell_type": "code",
   "execution_count": 7,
   "id": "436a24f6",
   "metadata": {},
   "outputs": [],
   "source": [
    "def calculate_saturation_value(saturation_curve, cut=0.95):\n",
    "    '''\n",
    "    Calculates the Point of saturation according to the given cut\n",
    "    \n",
    "    Inputs\n",
    "    --------\n",
    "    saturation_curve: array\n",
    "        stress data\n",
    "    cut: float \n",
    "        value between 0 and 1 that defines the % of change that is still allowed at the onset of saturation\n",
    "        Standard 0.95 defined for two standard deviations.\n",
    "       \n",
    "    Outputs\n",
    "    --------\n",
    "    _: integer\n",
    "        returns the estimated cycle for which the cut is reached for the first time.\n",
    "    '''\n",
    "    df=pd.DataFrame(saturation_curve, columns=[\"value\"])\n",
    "    return int(df.value[df.value>cut].first_valid_index())"
   ]
  },
  {
   "cell_type": "code",
   "execution_count": 8,
   "id": "9f412f4b",
   "metadata": {},
   "outputs": [],
   "source": [
    "def saturation_cycle(saturation_values):\n",
    "    '''\n",
    "    Checks if saturation occurs and if it is stable for at least 15 half-cycles\n",
    "    \n",
    "    Inputs\n",
    "    --------\n",
    "    saturation_values: array\n",
    "        Saturation Curve\n",
    "          \n",
    "    Outputs\n",
    "    --------\n",
    "    _: integer\n",
    "        returns the estimated cycle that is stable in the given data\n",
    "    \n",
    "    '''\n",
    "    if np.count_nonzero(np.gradient(saturation_values)[1:] == 0) > 15:\n",
    "        return int(saturation_values[-1])\n",
    "    else:\n",
    "        return np.nan"
   ]
  },
  {
   "cell_type": "code",
   "execution_count": 9,
   "id": "e902a163",
   "metadata": {},
   "outputs": [],
   "source": [
    "PATH=os.getcwd()\n",
    "FILE_NAME = 'stress_data'\n",
    "\n",
    "plastic_strain_5th_cycle = np.array([-0.00684177,  0.00673622])\n",
    "\n"
   ]
  },
  {
   "cell_type": "code",
   "execution_count": 10,
   "id": "4b15daf0",
   "metadata": {},
   "outputs": [],
   "source": [
    "stress_data = np.array(pd.read_csv(f\"{PATH}/example_data/{FILE_NAME}.csv\").stress)\n",
    "current_results[\"saturation_estimate\"] = estimate_saturation(plastic_strain_5th_cycle, 3.5)\n",
    "\n",
    "saturation_values = find_saturation(stress_data, cut=0.95)\n",
    "saturation_values_top = find_saturation(stress_data[::2], cut=0.95, stress_range = False)\n",
    "saturation_values_bottom = find_saturation(stress_data[1::2], cut=0.95, stress_range = False)\n",
    "\n",
    "current_results[\"saturation_cycle_calculated\"] = saturation_cycle(saturation_values)\n",
    "current_results[\"max_amp_saturation_cycle_calculated\"] = saturation_cycle(saturation_values_top)\n",
    "current_results[\"min_amp_saturation_cycle_calculated\"] = saturation_cycle(saturation_values_bottom)\n",
    "\n",
    "result_dict[FILE_NAME] = current_results"
   ]
  },
  {
   "cell_type": "code",
   "execution_count": 11,
   "id": "3affb9d1",
   "metadata": {},
   "outputs": [
    {
     "data": {
      "image/png": "[encoded data removed]",
      "text/plain": [
       "<Figure size 432x288 with 1 Axes>"
      ]
     },
     "metadata": {
      "needs_background": "light"
     },
     "output_type": "display_data"
    },
    {
     "data": {
      "image/png": "[encoded data removed]",
      "text/plain": [
       "<Figure size 432x288 with 1 Axes>"
      ]
     },
     "metadata": {
      "needs_background": "light"
     },
     "output_type": "display_data"
    }
   ],
   "source": [
    "plot_stress(FILE_NAME, stress_data)\n",
    "plt.plot()\n",
    "\n",
    "plt.title(f\"Saturation of sample {FILE_NAME}\")\n",
    "plt.plot(saturation_values, label= \"Delta between Amplitudes\")\n",
    "plt.plot(saturation_values_top, label = \"Maximal Amplitude\")\n",
    "plt.plot(saturation_values_bottom, label = \"Minimal Amplitude\")\n",
    "plt.legend()\n",
    "plt.show()\n"
   ]
  },
  {
   "cell_type": "code",
   "execution_count": 12,
   "id": "4c3f9f7b",
   "metadata": {},
   "outputs": [
    {
     "data": {
      "text/html": [
       "<div>\n",
       "<style scoped>\n",
       "    .dataframe tbody tr th:only-of-type {\n",
       "        vertical-align: middle;\n",
       "    }\n",
       "\n",
       "    .dataframe tbody tr th {\n",
       "        vertical-align: top;\n",
       "    }\n",
       "\n",
       "    .dataframe thead th {\n",
       "        text-align: right;\n",
       "    }\n",
       "</style>\n",
       "<table border=\"1\" class=\"dataframe\">\n",
       "  <thead>\n",
       "    <tr style=\"text-align: right;\">\n",
       "      <th></th>\n",
       "      <th>max_amp_saturation_cycle_calculated</th>\n",
       "      <th>min_amp_saturation_cycle_calculated</th>\n",
       "      <th>saturation_cycle_calculated</th>\n",
       "      <th>saturation_estimate</th>\n",
       "    </tr>\n",
       "  </thead>\n",
       "  <tbody>\n",
       "    <tr>\n",
       "      <th>stress_data</th>\n",
       "      <td>42</td>\n",
       "      <td>48</td>\n",
       "      <td>44</td>\n",
       "      <td>52</td>\n",
       "    </tr>\n",
       "  </tbody>\n",
       "</table>\n",
       "</div>"
      ],
      "text/plain": [
       "             max_amp_saturation_cycle_calculated  \\\n",
       "stress_data                                   42   \n",
       "\n",
       "             min_amp_saturation_cycle_calculated  saturation_cycle_calculated  \\\n",
       "stress_data                                   48                           44   \n",
       "\n",
       "             saturation_estimate  \n",
       "stress_data                   52  "
      ]
     },
     "execution_count": 12,
     "metadata": {},
     "output_type": "execute_result"
    }
   ],
   "source": [
    "pd.DataFrame(result_dict).T"
   ]
  },
  {
   "cell_type": "code",
   "execution_count": null,
   "id": "cc5d56d8",
   "metadata": {},
   "outputs": [],
   "source": []
  }
 ],
 "metadata": {
  "kernelspec": {
   "display_name": "Python 3",
   "language": "python",
   "name": "python3"
  },
  "language_info": {
   "codemirror_mode": {
    "name": "ipython",
    "version": 3
   },
   "file_extension": ".py",
   "mimetype": "text/x-python",
   "name": "python",
   "nbconvert_exporter": "python",
   "pygments_lexer": "ipython3",
   "version": "3.8.8"
  }
 },
 "nbformat": 4,
 "nbformat_minor": 5
}
